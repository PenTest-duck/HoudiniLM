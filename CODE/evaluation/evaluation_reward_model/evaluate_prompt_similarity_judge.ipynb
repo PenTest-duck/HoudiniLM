{
 "cells": [
  {
   "cell_type": "markdown",
   "id": "9927faf9",
   "metadata": {
    "vscode": {
     "languageId": "plaintext"
    }
   },
   "source": [
    "# Evaluate prompt similarity scoring logic\n",
    "This script uses a custom labelled dataset to evaluate the performance of the prompt-prompt similarity scoring (which uses LLM as a judge).\n",
    "This evaluation allowed us to iterate upon the system prompt we passed into the judge LLM to get better similarity measurements."
   ]
  },
  {
   "cell_type": "code",
   "execution_count": 6,
   "id": "d5ca61b7",
   "metadata": {},
   "outputs": [],
   "source": [
    "import pandas as pd\n",
    "import sys\n",
    "import os\n",
    "from tqdm import tqdm\n",
    "\n",
    "project_root = os.path.abspath(\"../../\")\n",
    "sys.path.append(project_root)\n",
    "from reward_model.similarity_score import calculate_similarity_score\n"
   ]
  },
  {
   "cell_type": "code",
   "execution_count": 9,
   "id": "cb1a367b",
   "metadata": {},
   "outputs": [],
   "source": [
    "tests = pd.read_csv(f\"{project_root}/../MISC/datasets/custom/prompt_similarity_eval_dataset.csv\")"
   ]
  },
  {
   "cell_type": "code",
   "execution_count": 13,
   "id": "2f0da507",
   "metadata": {},
   "outputs": [
    {
     "name": "stderr",
     "output_type": "stream",
     "text": [
      "50it [01:50,  2.20s/it]\n"
     ]
    }
   ],
   "source": [
    "# Evluate against dataset\n",
    "errors = []\n",
    "for i, test in enumerate(tqdm(tests.iterrows())):\n",
    "    _, row = test\n",
    "    actual_score = calculate_similarity_score(row['prompt1'], row['prompt2'])\n",
    "    expected_score = row['score'] / 10\n",
    "    error = abs(expected_score - actual_score)\n",
    "    errors.append(error)"
   ]
  },
  {
   "cell_type": "code",
   "execution_count": 15,
   "id": "875f0edd",
   "metadata": {},
   "outputs": [
    {
     "name": "stdout",
     "output_type": "stream",
     "text": [
      "Mean Absolute Error: 0.10\n"
     ]
    }
   ],
   "source": [
    "# Calculate and print the mean absolute error\n",
    "mae = sum(errors) / len(errors)\n",
    "print(f\"Mean Absolute Error: {mae:.2f}\")"
   ]
  },
  {
   "cell_type": "code",
   "execution_count": null,
   "id": "2e9d1ac1",
   "metadata": {},
   "outputs": [],
   "source": []
  }
 ],
 "metadata": {
  "kernelspec": {
   "display_name": ".venv",
   "language": "python",
   "name": "python3"
  },
  "language_info": {
   "codemirror_mode": {
    "name": "ipython",
    "version": 3
   },
   "file_extension": ".py",
   "mimetype": "text/x-python",
   "name": "python",
   "nbconvert_exporter": "python",
   "pygments_lexer": "ipython3",
   "version": "3.13.1"
  }
 },
 "nbformat": 4,
 "nbformat_minor": 5
}
