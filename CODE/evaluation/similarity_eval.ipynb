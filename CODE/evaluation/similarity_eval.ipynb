{
 "cells": [
  {
   "cell_type": "markdown",
   "id": "4766742b",
   "metadata": {},
   "source": [
    "Install BLEURT as library from Github"
   ]
  },
  {
   "cell_type": "code",
   "execution_count": 1,
   "id": "99eb6468",
   "metadata": {},
   "outputs": [
    {
     "name": "stdout",
     "output_type": "stream",
     "text": [
      "Collecting git+https://github.com/lucadiliello/bleurt-pytorch.git\n",
      "  Cloning https://github.com/lucadiliello/bleurt-pytorch.git to c:\\users\\alann\\appdata\\local\\temp\\pip-req-build-i09sut41\n",
      "  Resolved https://github.com/lucadiliello/bleurt-pytorch.git to commit 279ca1bb4106bde5a89f0f82723197e23d8446cb\n",
      "  Preparing metadata (setup.py): started\n",
      "  Preparing metadata (setup.py): finished with status 'done'\n",
      "Requirement already satisfied: torch>=1.10 in c:\\users\\alann\\appdata\\local\\programs\\python\\python312\\lib\\site-packages (from bleurt-pytorch==0.0.1) (2.6.0)\n",
      "Requirement already satisfied: transformers>=4.25 in c:\\users\\alann\\appdata\\local\\programs\\python\\python312\\lib\\site-packages (from bleurt-pytorch==0.0.1) (4.46.2)\n",
      "Requirement already satisfied: sentencepiece>=0.1.97 in c:\\users\\alann\\appdata\\local\\programs\\python\\python312\\lib\\site-packages (from bleurt-pytorch==0.0.1) (0.2.0)\n",
      "Requirement already satisfied: filelock in c:\\users\\alann\\appdata\\local\\programs\\python\\python312\\lib\\site-packages (from torch>=1.10->bleurt-pytorch==0.0.1) (3.15.4)\n",
      "Requirement already satisfied: typing-extensions>=4.10.0 in c:\\users\\alann\\appdata\\local\\programs\\python\\python312\\lib\\site-packages (from torch>=1.10->bleurt-pytorch==0.0.1) (4.13.2)\n",
      "Requirement already satisfied: networkx in c:\\users\\alann\\appdata\\local\\programs\\python\\python312\\lib\\site-packages (from torch>=1.10->bleurt-pytorch==0.0.1) (3.4.2)\n",
      "Requirement already satisfied: jinja2 in c:\\users\\alann\\appdata\\local\\programs\\python\\python312\\lib\\site-packages (from torch>=1.10->bleurt-pytorch==0.0.1) (3.1.4)\n",
      "Requirement already satisfied: fsspec in c:\\users\\alann\\appdata\\local\\programs\\python\\python312\\lib\\site-packages (from torch>=1.10->bleurt-pytorch==0.0.1) (2024.6.1)\n",
      "Requirement already satisfied: setuptools in c:\\users\\alann\\appdata\\local\\programs\\python\\python312\\lib\\site-packages (from torch>=1.10->bleurt-pytorch==0.0.1) (70.2.0)\n",
      "Requirement already satisfied: sympy==1.13.1 in c:\\users\\alann\\appdata\\local\\programs\\python\\python312\\lib\\site-packages (from torch>=1.10->bleurt-pytorch==0.0.1) (1.13.1)\n",
      "Requirement already satisfied: mpmath<1.4,>=1.1.0 in c:\\users\\alann\\appdata\\local\\programs\\python\\python312\\lib\\site-packages (from sympy==1.13.1->torch>=1.10->bleurt-pytorch==0.0.1) (1.3.0)\n",
      "Requirement already satisfied: huggingface-hub<1.0,>=0.23.2 in c:\\users\\alann\\appdata\\local\\programs\\python\\python312\\lib\\site-packages (from transformers>=4.25->bleurt-pytorch==0.0.1) (0.30.2)\n",
      "Requirement already satisfied: numpy>=1.17 in c:\\users\\alann\\appdata\\local\\programs\\python\\python312\\lib\\site-packages (from transformers>=4.25->bleurt-pytorch==0.0.1) (1.26.4)\n",
      "Requirement already satisfied: packaging>=20.0 in c:\\users\\alann\\appdata\\local\\programs\\python\\python312\\lib\\site-packages (from transformers>=4.25->bleurt-pytorch==0.0.1) (24.1)\n",
      "Requirement already satisfied: pyyaml>=5.1 in c:\\users\\alann\\appdata\\local\\programs\\python\\python312\\lib\\site-packages (from transformers>=4.25->bleurt-pytorch==0.0.1) (6.0.1)\n",
      "Requirement already satisfied: regex!=2019.12.17 in c:\\users\\alann\\appdata\\local\\programs\\python\\python312\\lib\\site-packages (from transformers>=4.25->bleurt-pytorch==0.0.1) (2024.5.15)\n",
      "Requirement already satisfied: requests in c:\\users\\alann\\appdata\\local\\programs\\python\\python312\\lib\\site-packages (from transformers>=4.25->bleurt-pytorch==0.0.1) (2.32.3)\n",
      "Requirement already satisfied: safetensors>=0.4.1 in c:\\users\\alann\\appdata\\local\\programs\\python\\python312\\lib\\site-packages (from transformers>=4.25->bleurt-pytorch==0.0.1) (0.4.5)\n",
      "Requirement already satisfied: tokenizers<0.21,>=0.20 in c:\\users\\alann\\appdata\\local\\programs\\python\\python312\\lib\\site-packages (from transformers>=4.25->bleurt-pytorch==0.0.1) (0.20.3)\n",
      "Requirement already satisfied: tqdm>=4.27 in c:\\users\\alann\\appdata\\local\\programs\\python\\python312\\lib\\site-packages (from transformers>=4.25->bleurt-pytorch==0.0.1) (4.66.4)\n",
      "Requirement already satisfied: colorama in c:\\users\\alann\\appdata\\local\\programs\\python\\python312\\lib\\site-packages (from tqdm>=4.27->transformers>=4.25->bleurt-pytorch==0.0.1) (0.4.6)\n",
      "Requirement already satisfied: MarkupSafe>=2.0 in c:\\users\\alann\\appdata\\local\\programs\\python\\python312\\lib\\site-packages (from jinja2->torch>=1.10->bleurt-pytorch==0.0.1) (2.1.5)\n",
      "Requirement already satisfied: charset-normalizer<4,>=2 in c:\\users\\alann\\appdata\\local\\programs\\python\\python312\\lib\\site-packages (from requests->transformers>=4.25->bleurt-pytorch==0.0.1) (3.3.2)\n",
      "Requirement already satisfied: idna<4,>=2.5 in c:\\users\\alann\\appdata\\local\\programs\\python\\python312\\lib\\site-packages (from requests->transformers>=4.25->bleurt-pytorch==0.0.1) (3.7)\n",
      "Requirement already satisfied: urllib3<3,>=1.21.1 in c:\\users\\alann\\appdata\\local\\programs\\python\\python312\\lib\\site-packages (from requests->transformers>=4.25->bleurt-pytorch==0.0.1) (2.1.0)\n",
      "Requirement already satisfied: certifi>=2017.4.17 in c:\\users\\alann\\appdata\\local\\programs\\python\\python312\\lib\\site-packages (from requests->transformers>=4.25->bleurt-pytorch==0.0.1) (2024.6.2)\n"
     ]
    },
    {
     "name": "stderr",
     "output_type": "stream",
     "text": [
      "  Running command git clone --filter=blob:none --quiet https://github.com/lucadiliello/bleurt-pytorch.git 'C:\\Users\\alann\\AppData\\Local\\Temp\\pip-req-build-i09sut41'\n",
      "\n",
      "[notice] A new release of pip is available: 23.2.1 -> 25.1\n",
      "[notice] To update, run: python.exe -m pip install --upgrade pip\n"
     ]
    }
   ],
   "source": [
    "!pip install git+https://github.com/lucadiliello/bleurt-pytorch.git\n"
   ]
  },
  {
   "cell_type": "code",
   "execution_count": 2,
   "id": "6bffd802",
   "metadata": {},
   "outputs": [
    {
     "name": "stderr",
     "output_type": "stream",
     "text": [
      "c:\\Users\\alann\\AppData\\Local\\Programs\\Python\\Python312\\Lib\\site-packages\\tqdm\\auto.py:21: TqdmWarning: IProgress not found. Please update jupyter and ipywidgets. See https://ipywidgets.readthedocs.io/en/stable/user_install.html\n",
      "  from .autonotebook import tqdm as notebook_tqdm\n"
     ]
    }
   ],
   "source": [
    "from transformers import logging\n",
    "logging.set_verbosity_error()   # only show warnings and errors from Transformers"
   ]
  },
  {
   "cell_type": "code",
   "execution_count": 3,
   "id": "28fc2dad",
   "metadata": {},
   "outputs": [],
   "source": [
    "from bleurt_pytorch import BleurtForSequenceClassification, BleurtTokenizer\n",
    "\n",
    "tokenizer = BleurtTokenizer.from_pretrained(\"lucadiliello/BLEURT-20-D12\")\n",
    "model     = BleurtForSequenceClassification.from_pretrained(\"lucadiliello/BLEURT-20-D12\")"
   ]
  },
  {
   "cell_type": "markdown",
   "id": "19e0ec70",
   "metadata": {},
   "source": [
    "Simple test"
   ]
  },
  {
   "cell_type": "code",
   "execution_count": 4,
   "id": "4ffaed06",
   "metadata": {},
   "outputs": [
    {
     "data": {
      "text/plain": [
       "0.28885722160339355"
      ]
     },
     "execution_count": 4,
     "metadata": {},
     "output_type": "execute_result"
    }
   ],
   "source": [
    "refs = [\"The dog barked happily.\"]\n",
    "cands = [\"There was a mat which the cat sat on.\"]\n",
    "\n",
    "def pair_bleurt(ref: str, cand: str) -> float:\n",
    "    # tokenize as a pair—this will insert the proper [SEP] tokens\n",
    "    inputs = tokenizer(ref, cand, return_tensors=\"pt\", padding=True, truncation=True, max_length=512)\n",
    "    # forward pass returns a (1,1) tensor of logits\n",
    "    score = model(**inputs).logits.squeeze().item()\n",
    "    return score\n",
    "\n",
    "pair_bleurt(refs[0], cands[0])"
   ]
  },
  {
   "cell_type": "markdown",
   "id": "8107a036",
   "metadata": {},
   "source": [
    "Load datasets and model generations from each method evaluated"
   ]
  },
  {
   "cell_type": "code",
   "execution_count": 5,
   "id": "abacd37f",
   "metadata": {},
   "outputs": [],
   "source": [
    "from dotenv import load_dotenv\n",
    "load_dotenv()\n",
    "import numpy as np\n",
    "import pandas as pd\n",
    "import os\n",
    "\n",
    "def read_csv_to_dict(file_path):\n",
    "    data = pd.read_csv(file_path)\n",
    "    return data.to_dict(orient='records')\n",
    "\n",
    "csv_files = {\n",
    "    \"base_prompt\": \"strongreject_evaluation1.csv\",\n",
    "    \"rule_syn\": \"strongreject_evaluation2.csv\",\n",
    "    \"rule_syn_prefix\": \"strongreject_evaluation3.csv\",\n",
    "    \"base_nous\": \"strongreject_evaluation_nous.csv\",\n",
    "    \"reward_1\": \"strongreject_evaluation4.csv\",\n",
    "    \"reward_2\": \"strongreject_evaluation5.csv\",\n",
    "    \"reward_3\": \"strongreject_evaluation_rl3.csv\",\n",
    "    \"reward_2_checklist\": \"strongreject_evaluation_rl2_checkpoint.csv\",\n",
    "    \"reward_3_checklist\": \"strongreject_evaluation_rl3_checkpoint.csv\",\n",
    "}\n",
    "\n",
    "# Read the CSV files into dictionaries\n",
    "evaluation_path = \".\"\n",
    "dataset_path = \"../dataset\"\n",
    "evaluation_files = {key: read_csv_to_dict(os.path.join(evaluation_path, file_name)) \n",
    "                    for key, file_name in csv_files.items()}\n",
    "\n",
    "beaver_responses = read_csv_to_dict(os.path.join(dataset_path, \"test_dataset.csv\"))\n",
    "jailbreak_responses = read_csv_to_dict(os.path.join(dataset_path, \"jailbreak_eval_dataset.csv\"))\n",
    "\n",
    "# Remove repetitive prompts from the evaluation files and responses\n",
    "def remove_repetitive_prompts(data):\n",
    "    seen_prompts = set()\n",
    "    unique_data = []\n",
    "    for item in data:\n",
    "        prompt = item.get('original_prompt') or item.get('Goal') or item.get('prompt')\n",
    "        if prompt not in seen_prompts:\n",
    "            seen_prompts.add(prompt)\n",
    "            unique_data.append(item)\n",
    "    return unique_data\n",
    "\n",
    "evaluation_files = {key: remove_repetitive_prompts(evaluation_list) for key, evaluation_list in evaluation_files.items()}\n",
    "beaver_responses = remove_repetitive_prompts(beaver_responses)\n",
    "jailbreak_responses = remove_repetitive_prompts(jailbreak_responses)\n"
   ]
  },
  {
   "cell_type": "markdown",
   "id": "cf77cdcc",
   "metadata": {},
   "source": [
    "Checking the length of output is as expected"
   ]
  },
  {
   "cell_type": "code",
   "execution_count": 6,
   "id": "c60b38cc",
   "metadata": {},
   "outputs": [
    {
     "name": "stdout",
     "output_type": "stream",
     "text": [
      "Key: base_prompt Length: 195\n",
      "Key: rule_syn Length: 188\n",
      "Key: rule_syn_prefix Length: 189\n",
      "Key: base_nous Length: 195\n",
      "Key: reward_1 Length: 194\n",
      "Key: reward_2 Length: 195\n",
      "Key: reward_3 Length: 195\n",
      "Key: reward_2_checklist Length: 195\n",
      "Key: reward_3_checklist Length: 195\n",
      "Beaver Responses Length: 95\n",
      "Jailbreak Responses Length: 100\n"
     ]
    }
   ],
   "source": [
    "for key, evaluation_list in evaluation_files.items():\n",
    "    print(\"Key:\", key, \"Length:\", len(evaluation_list))\n",
    "\n",
    "print(\"Beaver Responses Length:\", len(beaver_responses))\n",
    "print(\"Jailbreak Responses Length:\", len(jailbreak_responses))"
   ]
  },
  {
   "cell_type": "markdown",
   "id": "2e5dc901",
   "metadata": {},
   "source": [
    "Running evaluation using BLEURT similarity metric"
   ]
  },
  {
   "cell_type": "code",
   "execution_count": 7,
   "id": "35d0496c",
   "metadata": {},
   "outputs": [
    {
     "name": "stdout",
     "output_type": "stream",
     "text": [
      "Key: base_prompt Length: 195\n"
     ]
    },
    {
     "name": "stderr",
     "output_type": "stream",
     "text": [
      "100%|██████████| 195/195 [02:23<00:00,  1.36it/s]\n"
     ]
    },
    {
     "name": "stdout",
     "output_type": "stream",
     "text": [
      "Key: base_prompt Score: 0.2897296077326724\n",
      "Key: base_prompt Score: 0.36196838051080704\n",
      "Key: rule_syn Length: 188\n"
     ]
    },
    {
     "name": "stderr",
     "output_type": "stream",
     "text": [
      "100%|██████████| 188/188 [02:46<00:00,  1.13it/s]\n"
     ]
    },
    {
     "name": "stdout",
     "output_type": "stream",
     "text": [
      "Key: rule_syn Score: 0.2969635985791683\n",
      "Key: rule_syn Score: 0.3628819374740124\n",
      "Key: rule_syn_prefix Length: 189\n"
     ]
    },
    {
     "name": "stderr",
     "output_type": "stream",
     "text": [
      "100%|██████████| 189/189 [00:48<00:00,  3.87it/s]\n"
     ]
    },
    {
     "name": "stdout",
     "output_type": "stream",
     "text": [
      "Key: rule_syn_prefix Score: 0.24794542806202105\n",
      "Key: rule_syn_prefix Score: 0.2262715768814087\n",
      "Key: base_nous Length: 195\n"
     ]
    },
    {
     "name": "stderr",
     "output_type": "stream",
     "text": [
      "100%|██████████| 195/195 [03:16<00:00,  1.01s/it]\n"
     ]
    },
    {
     "name": "stdout",
     "output_type": "stream",
     "text": [
      "Key: base_nous Score: 0.3181862624068009\n",
      "Key: base_nous Score: 0.3947292937338352\n",
      "Key: reward_1 Length: 194\n"
     ]
    },
    {
     "name": "stderr",
     "output_type": "stream",
     "text": [
      "100%|██████████| 194/194 [03:28<00:00,  1.07s/it]\n"
     ]
    },
    {
     "name": "stdout",
     "output_type": "stream",
     "text": [
      "Key: reward_1 Score: 0.3262163511232326\n",
      "Key: reward_1 Score: 0.3900059720482489\n",
      "Key: reward_2 Length: 195\n"
     ]
    },
    {
     "name": "stderr",
     "output_type": "stream",
     "text": [
      "100%|██████████| 195/195 [04:15<00:00,  1.31s/it]\n"
     ]
    },
    {
     "name": "stdout",
     "output_type": "stream",
     "text": [
      "Key: reward_2 Score: 0.32169047374474374\n",
      "Key: reward_2 Score: 0.387155914157629\n",
      "Key: reward_3 Length: 195\n"
     ]
    },
    {
     "name": "stderr",
     "output_type": "stream",
     "text": [
      "100%|██████████| 195/195 [03:59<00:00,  1.23s/it]\n"
     ]
    },
    {
     "name": "stdout",
     "output_type": "stream",
     "text": [
      "Key: reward_3 Score: 0.3204627640937504\n",
      "Key: reward_3 Score: 0.3918776997923851\n",
      "Key: reward_2_checklist Length: 195\n"
     ]
    },
    {
     "name": "stderr",
     "output_type": "stream",
     "text": [
      "100%|██████████| 195/195 [03:56<00:00,  1.21s/it]\n"
     ]
    },
    {
     "name": "stdout",
     "output_type": "stream",
     "text": [
      "Key: reward_2_checklist Score: 0.3243304223606461\n",
      "Key: reward_2_checklist Score: 0.39567733511328695\n",
      "Key: reward_3_checklist Length: 195\n"
     ]
    },
    {
     "name": "stderr",
     "output_type": "stream",
     "text": [
      "100%|██████████| 195/195 [03:58<00:00,  1.22s/it]"
     ]
    },
    {
     "name": "stdout",
     "output_type": "stream",
     "text": [
      "Key: reward_3_checklist Score: 0.320514893374945\n",
      "Key: reward_3_checklist Score: 0.3948439148068428\n"
     ]
    },
    {
     "name": "stderr",
     "output_type": "stream",
     "text": [
      "\n"
     ]
    }
   ],
   "source": [
    "from tqdm import tqdm\n",
    "similarity_results_beaver = {key: 0 for key in evaluation_files.keys()}\n",
    "similarity_results_jailbreak = {key: 0 for key in evaluation_files.keys()}\n",
    "\n",
    "for key, evaluation_list in evaluation_files.items():\n",
    "    count_beaver = 0\n",
    "    count_jailbreak = 0\n",
    "    print(\"Key:\", key, \"Length:\", len(evaluation_list))\n",
    "    for evaluation in tqdm(evaluation_list):\n",
    "        # Check if dataset is beavertails or jailbreakbench\n",
    "        if evaluation['dataset'] == \"beavertails\":\n",
    "            count_beaver += 1\n",
    "            for response in beaver_responses:\n",
    "                # Ensure prompts are matched before calculating similarity between responses\n",
    "                if evaluation.get('original_prompt') == response.get('prompt'):\n",
    "                    similarity = pair_bleurt(response.get('response'), evaluation.get('target_response'))\n",
    "                    similarity_results_beaver[key] += similarity\n",
    "\n",
    "        if evaluation['dataset'] == \"jailbreakbench\":\n",
    "            count_jailbreak += 1\n",
    "            for response in jailbreak_responses:\n",
    "                if evaluation.get('original_prompt') == response.get('Goal'):\n",
    "                    if response.get('Target') is not None:\n",
    "                        similarity = pair_bleurt(response.get('Target'), evaluation.get('target_response'))\n",
    "                        similarity_results_jailbreak[key] += similarity\n",
    "                    else:\n",
    "                        print(\"No target found for prompt: \", evaluation.get('original_prompt'))\n",
    "                        print(\"Target: \", response.get('Target'))\n",
    "    \n",
    "    similarity_results_beaver[key] /= count_beaver\n",
    "    similarity_results_jailbreak[key] /= count_jailbreak\n",
    "    print(\"Key:\", key, \"Score:\", similarity_results_beaver[key])\n",
    "    print(\"Key:\", key, \"Score:\", similarity_results_jailbreak[key])"
   ]
  },
  {
   "cell_type": "markdown",
   "id": "618f249b",
   "metadata": {},
   "source": [
    "Output similarity results of beavertails and jailbreak for each of the methods"
   ]
  },
  {
   "cell_type": "code",
   "execution_count": 8,
   "id": "aeb52835",
   "metadata": {},
   "outputs": [
    {
     "data": {
      "text/plain": [
       "{'base_prompt': 0.2897296077326724,\n",
       " 'rule_syn': 0.2969635985791683,\n",
       " 'rule_syn_prefix': 0.24794542806202105,\n",
       " 'base_nous': 0.3181862624068009,\n",
       " 'reward_1': 0.3262163511232326,\n",
       " 'reward_2': 0.32169047374474374,\n",
       " 'reward_3': 0.3204627640937504,\n",
       " 'reward_2_checklist': 0.3243304223606461,\n",
       " 'reward_3_checklist': 0.320514893374945}"
      ]
     },
     "execution_count": 8,
     "metadata": {},
     "output_type": "execute_result"
    }
   ],
   "source": [
    "similarity_results_beaver"
   ]
  },
  {
   "cell_type": "code",
   "execution_count": 9,
   "id": "e49e56df",
   "metadata": {},
   "outputs": [
    {
     "data": {
      "text/plain": [
       "{'base_prompt': 0.36196838051080704,\n",
       " 'rule_syn': 0.3628819374740124,\n",
       " 'rule_syn_prefix': 0.2262715768814087,\n",
       " 'base_nous': 0.3947292937338352,\n",
       " 'reward_1': 0.3900059720482489,\n",
       " 'reward_2': 0.387155914157629,\n",
       " 'reward_3': 0.3918776997923851,\n",
       " 'reward_2_checklist': 0.39567733511328695,\n",
       " 'reward_3_checklist': 0.3948439148068428}"
      ]
     },
     "execution_count": 9,
     "metadata": {},
     "output_type": "execute_result"
    }
   ],
   "source": [
    "similarity_results_jailbreak"
   ]
  }
 ],
 "metadata": {
  "kernelspec": {
   "display_name": "Python 3",
   "language": "python",
   "name": "python3"
  },
  "language_info": {
   "codemirror_mode": {
    "name": "ipython",
    "version": 3
   },
   "file_extension": ".py",
   "mimetype": "text/x-python",
   "name": "python",
   "nbconvert_exporter": "python",
   "pygments_lexer": "ipython3",
   "version": "3.12.0"
  }
 },
 "nbformat": 4,
 "nbformat_minor": 5
}
