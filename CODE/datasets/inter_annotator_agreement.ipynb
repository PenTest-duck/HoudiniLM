{
 "cells": [
  {
   "cell_type": "markdown",
   "id": "6d8ec051",
   "metadata": {},
   "source": [
    "# Inter-Annotator Agreement"
   ]
  },
  {
   "cell_type": "code",
   "execution_count": null,
   "id": "b5dad74b",
   "metadata": {},
   "outputs": [],
   "source": [
    "import pandas as pd\n",
    "from sklearn.metrics import cohen_kappa_score"
   ]
  },
  {
   "cell_type": "code",
   "execution_count": 2,
   "id": "5d683c82",
   "metadata": {},
   "outputs": [],
   "source": [
    "judge_df = pd.read_csv(\"eval_judge.csv\")\n",
    "kappa12 = cohen_kappa_score(judge_df[\"score1\"], judge_df[\"score2\"])\n",
    "kappa13 = cohen_kappa_score(judge_df[\"score1\"], judge_df[\"score3\"])\n",
    "kappa23 = cohen_kappa_score(judge_df[\"score2\"], judge_df[\"score3\"])"
   ]
  },
  {
   "cell_type": "code",
   "execution_count": 3,
   "id": "ee770cd5",
   "metadata": {},
   "outputs": [
    {
     "name": "stdout",
     "output_type": "stream",
     "text": [
      "Kappa between score1 and score2: 0.484375\n",
      "Kappa between score1 and score3: 0.7016199924651514\n",
      "Kappa between score2 and score3: 0.4669421487603307\n"
     ]
    }
   ],
   "source": [
    "print(\"Kappa between score1 and score2:\", kappa12)\n",
    "print(\"Kappa between score1 and score3:\", kappa13)\n",
    "print(\"Kappa between score2 and score3:\", kappa23)"
   ]
  },
  {
   "cell_type": "markdown",
   "id": "c376b4c5",
   "metadata": {},
   "source": [
    "Inter-annotator agreement between annotator 1 & 2 and 2 & 3 is moderate, and between 1 & 3 is substantial."
   ]
  },
  {
   "cell_type": "markdown",
   "id": "d236ed78",
   "metadata": {},
   "source": []
  }
 ],
 "metadata": {
  "kernelspec": {
   "display_name": ".venv",
   "language": "python",
   "name": "python3"
  },
  "language_info": {
   "codemirror_mode": {
    "name": "ipython",
    "version": 3
   },
   "file_extension": ".py",
   "mimetype": "text/x-python",
   "name": "python",
   "nbconvert_exporter": "python",
   "pygments_lexer": "ipython3",
   "version": "3.13.1"
  }
 },
 "nbformat": 4,
 "nbformat_minor": 5
}
